{
 "cells": [
  {
   "cell_type": "code",
   "execution_count": 1,
   "metadata": {},
   "outputs": [
    {
     "name": "stderr",
     "output_type": "stream",
     "text": [
      "Using TensorFlow backend.\n"
     ]
    }
   ],
   "source": [
    "import keras\n",
    "from keras.datasets import cifar10, mnist\n",
    "from keras.models import Sequential\n",
    "from keras.layers import Dense, Dropout, Flatten, Reshape\n",
    "from keras.preprocessing.image import ImageDataGenerator\n",
    "from keras.layers import Conv2D, MaxPooling2D\n",
    "from keras import backend as K\n",
    "from keras import regularizers\n",
    "from keras.callbacks import TensorBoard\n",
    "import datetime\n",
    "\n",
    "import numpy as np"
   ]
  },
  {
   "cell_type": "code",
   "execution_count": 2,
   "metadata": {
    "collapsed": true
   },
   "outputs": [],
   "source": [
    "def get_timestamp():\n",
    "    return '{:%Y-%m-%d-%H-%M-%S}'.format(datetime.datetime.now())"
   ]
  },
  {
   "cell_type": "code",
   "execution_count": 3,
   "metadata": {
    "collapsed": true
   },
   "outputs": [],
   "source": [
    "# the data, shuffled and split between train and test sets\n",
    "def load_data(dataset):\n",
    "    # Load\n",
    "    (x_train, y_train), (x_test, y_test) = dataset.load_data()\n",
    "    # Reshape X\n",
    "    img_rows = x_train.shape[1]\n",
    "    img_cols = x_train.shape[2]\n",
    "    n_channels = x_train.shape[3] if len(x_train.shape) == 4 else 1\n",
    "    if K.image_data_format() == 'channels_first':\n",
    "        s = [n_channels, img_rows, img_cols]\n",
    "    else:\n",
    "        s = [img_rows, img_cols, n_channels]\n",
    "    x_train = x_train.reshape(x_train.shape[0], *s)\n",
    "    x_test = x_test.reshape(x_test.shape[0], *s)\n",
    "    # Rescale X\n",
    "    x_train = x_train.astype('float32')\n",
    "    x_test = x_test.astype('float32')\n",
    "    x_train /= 255\n",
    "    x_test /= 255\n",
    "    # Reshape y\n",
    "    num_classes = len(np.unique(y_train))\n",
    "    y_train = keras.utils.to_categorical(y_train, num_classes)\n",
    "    y_test = keras.utils.to_categorical(y_test, num_classes)\n",
    "    return (x_train, y_train), (x_test, y_test), img_rows, img_cols"
   ]
  },
  {
   "cell_type": "code",
   "execution_count": 4,
   "metadata": {
    "collapsed": true
   },
   "outputs": [],
   "source": [
    "(x_train, y_train), (x_test, y_test), img_rows, img_cols = load_data(cifar10)"
   ]
  },
  {
   "cell_type": "code",
   "execution_count": 5,
   "metadata": {},
   "outputs": [
    {
     "name": "stdout",
     "output_type": "stream",
     "text": [
      "x_train shape: (50000, 32, 32, 3)\n",
      "50000 train samples\n",
      "10000 test samples\n"
     ]
    }
   ],
   "source": [
    "print('x_train shape:', x_train.shape)\n",
    "print(x_train.shape[0], 'train samples')\n",
    "print(x_test.shape[0], 'test samples')"
   ]
  },
  {
   "cell_type": "code",
   "execution_count": 6,
   "metadata": {
    "collapsed": true
   },
   "outputs": [],
   "source": [
    "datagen = ImageDataGenerator(\n",
    "    featurewise_center=False,\n",
    "    featurewise_std_normalization=False,\n",
    "    width_shift_range=0.2,\n",
    "    height_shift_range=0.2,\n",
    "    horizontal_flip=True)\n",
    "\n",
    "datagen.fit(x_train)\n",
    "\n"
   ]
  },
  {
   "cell_type": "code",
   "execution_count": 7,
   "metadata": {
    "collapsed": true
   },
   "outputs": [],
   "source": [
    "small_cnn = Sequential()\n",
    "\n",
    "small_cnn.add(Conv2D(32, (3, 3), padding = \"same\", activation='relu', input_shape=x_train.shape[1:]))\n",
    "small_cnn.add(Conv2D(32, (3, 3), padding = \"same\", activation='relu'))\n",
    "small_cnn.add(MaxPooling2D(pool_size=(2, 2)))\n",
    "small_cnn.add(Dropout(0.3))\n",
    "\n",
    "small_cnn.add(Conv2D(64, (3, 3), padding = \"same\", activation='relu'))\n",
    "small_cnn.add(Conv2D(64, (3, 3), padding = \"same\", activation='relu'))\n",
    "small_cnn.add(MaxPooling2D(pool_size=(2, 2)))\n",
    "small_cnn.add(Dropout(0.3))\n",
    "\n",
    "small_cnn.add(Conv2D(128, (3, 3), padding = \"same\", activation='relu'))\n",
    "small_cnn.add(Conv2D(128, (3, 3), padding = \"same\", activation='relu'))\n",
    "small_cnn.add(MaxPooling2D(pool_size=(2, 2)))\n",
    "small_cnn.add(Dropout(0.3))\n",
    "\n",
    "small_cnn.add(Flatten())\n",
    "\n",
    "small_cnn.add(Dense(units=128, activation='relu'))\n",
    "small_cnn.add(Dropout(0.3))\n",
    "small_cnn.add(Dense(units=128, activation='relu'))\n",
    "small_cnn.add(Dropout(0.3))\n",
    "\n",
    "small_cnn.add(Dense(units=10, activation='softmax'))"
   ]
  },
  {
   "cell_type": "code",
   "execution_count": 8,
   "metadata": {
    "collapsed": true
   },
   "outputs": [],
   "source": [
    "#model = linear\n",
    "model = small_cnn\n",
    "\n",
    "model.compile(loss=keras.losses.categorical_crossentropy,\n",
    "              optimizer=keras.optimizers.Adadelta(),\n",
    "              metrics=['accuracy'])"
   ]
  },
  {
   "cell_type": "code",
   "execution_count": 8,
   "metadata": {
    "scrolled": true
   },
   "outputs": [
    {
     "name": "stdout",
     "output_type": "stream",
     "text": [
      "Train on 6000 samples, validate on 1000 samples\n",
      "Epoch 1/60\n",
      "6000/6000 [==============================] - 47s - loss: 2.2859 - acc: 0.1255 - val_loss: 2.2299 - val_acc: 0.1690\n",
      "Epoch 2/60\n",
      "6000/6000 [==============================] - 54s - loss: 2.2163 - acc: 0.1837 - val_loss: 2.1268 - val_acc: 0.2290\n",
      "Epoch 3/60\n",
      "6000/6000 [==============================] - 53s - loss: 2.0966 - acc: 0.2367 - val_loss: 2.0480 - val_acc: 0.2800\n",
      "Epoch 4/60\n",
      "6000/6000 [==============================] - 50s - loss: 2.0265 - acc: 0.2660 - val_loss: 1.9932 - val_acc: 0.3050\n",
      "Epoch 5/60\n",
      "6000/6000 [==============================] - 46s - loss: 1.9828 - acc: 0.2833 - val_loss: 1.8664 - val_acc: 0.3330\n",
      "Epoch 6/60\n",
      "6000/6000 [==============================] - 48s - loss: 1.8602 - acc: 0.3267 - val_loss: 1.7886 - val_acc: 0.3400\n",
      "Epoch 7/60\n",
      "6000/6000 [==============================] - 52s - loss: 1.8013 - acc: 0.3365 - val_loss: 1.7377 - val_acc: 0.3690\n",
      "Epoch 8/60\n",
      "6000/6000 [==============================] - 56s - loss: 1.7257 - acc: 0.3705 - val_loss: 1.6963 - val_acc: 0.4020\n",
      "Epoch 9/60\n",
      "6000/6000 [==============================] - 44s - loss: 1.6718 - acc: 0.3865 - val_loss: 1.7168 - val_acc: 0.3700\n",
      "Epoch 10/60\n",
      "6000/6000 [==============================] - 44s - loss: 1.6231 - acc: 0.4072 - val_loss: 1.6578 - val_acc: 0.4090\n",
      "Epoch 11/60\n",
      "6000/6000 [==============================] - 43s - loss: 1.5780 - acc: 0.4255 - val_loss: 1.5269 - val_acc: 0.4600\n",
      "Epoch 12/60\n",
      "6000/6000 [==============================] - 44s - loss: 1.5178 - acc: 0.4507 - val_loss: 1.6015 - val_acc: 0.4240\n",
      "Epoch 13/60\n",
      "6000/6000 [==============================] - 56s - loss: 1.4736 - acc: 0.4662 - val_loss: 1.5024 - val_acc: 0.4500\n",
      "Epoch 14/60\n",
      "6000/6000 [==============================] - 44s - loss: 1.4495 - acc: 0.4710 - val_loss: 1.4558 - val_acc: 0.4910\n",
      "Epoch 15/60\n",
      "6000/6000 [==============================] - 44s - loss: 1.3951 - acc: 0.4890 - val_loss: 1.4237 - val_acc: 0.4880\n",
      "Epoch 16/60\n",
      "6000/6000 [==============================] - 49s - loss: 1.3548 - acc: 0.5080 - val_loss: 1.3788 - val_acc: 0.5050\n",
      "Epoch 17/60\n",
      "6000/6000 [==============================] - 43s - loss: 1.3212 - acc: 0.5238 - val_loss: 1.3440 - val_acc: 0.5270\n",
      "Epoch 18/60\n",
      "6000/6000 [==============================] - 44s - loss: 1.2692 - acc: 0.5360 - val_loss: 1.4709 - val_acc: 0.4690\n",
      "Epoch 19/60\n",
      "6000/6000 [==============================] - 49s - loss: 1.2570 - acc: 0.5457 - val_loss: 1.3731 - val_acc: 0.5050\n",
      "Epoch 20/60\n",
      "6000/6000 [==============================] - 48s - loss: 1.2173 - acc: 0.5602 - val_loss: 1.3567 - val_acc: 0.5230\n",
      "Epoch 21/60\n",
      "6000/6000 [==============================] - 47s - loss: 1.1829 - acc: 0.5742 - val_loss: 1.2949 - val_acc: 0.5400\n",
      "Epoch 22/60\n",
      "6000/6000 [==============================] - 42s - loss: 1.1409 - acc: 0.5925 - val_loss: 1.2910 - val_acc: 0.5510\n",
      "Epoch 23/60\n",
      "6000/6000 [==============================] - 45s - loss: 1.1024 - acc: 0.6012 - val_loss: 1.3797 - val_acc: 0.5290\n",
      "Epoch 24/60\n",
      "6000/6000 [==============================] - 45s - loss: 1.0859 - acc: 0.6108 - val_loss: 1.3292 - val_acc: 0.5390\n",
      "Epoch 25/60\n",
      "6000/6000 [==============================] - 42s - loss: 1.0498 - acc: 0.6247 - val_loss: 1.3963 - val_acc: 0.5260\n",
      "Epoch 26/60\n",
      "6000/6000 [==============================] - 48s - loss: 1.0060 - acc: 0.6400 - val_loss: 1.3368 - val_acc: 0.5340\n",
      "Epoch 27/60\n",
      "6000/6000 [==============================] - 42s - loss: 0.9608 - acc: 0.6587 - val_loss: 1.2669 - val_acc: 0.5640\n",
      "Epoch 28/60\n",
      "6000/6000 [==============================] - 42s - loss: 0.9523 - acc: 0.6547 - val_loss: 1.3372 - val_acc: 0.5520\n",
      "Epoch 29/60\n",
      "6000/6000 [==============================] - 39s - loss: 0.9081 - acc: 0.6757 - val_loss: 1.3353 - val_acc: 0.5510\n",
      "Epoch 30/60\n",
      "6000/6000 [==============================] - 43s - loss: 0.8698 - acc: 0.6833 - val_loss: 1.4417 - val_acc: 0.5390\n",
      "Epoch 31/60\n",
      "6000/6000 [==============================] - 44s - loss: 0.8525 - acc: 0.6903 - val_loss: 1.3209 - val_acc: 0.5620\n",
      "Epoch 32/60\n",
      "6000/6000 [==============================] - 45s - loss: 0.7936 - acc: 0.7135 - val_loss: 1.3287 - val_acc: 0.5670\n",
      "Epoch 33/60\n",
      "6000/6000 [==============================] - 43s - loss: 0.7818 - acc: 0.7133 - val_loss: 1.4040 - val_acc: 0.5630\n",
      "Epoch 34/60\n",
      "6000/6000 [==============================] - 43s - loss: 0.7578 - acc: 0.7238 - val_loss: 1.3645 - val_acc: 0.5650\n",
      "Epoch 35/60\n",
      " 256/6000 [>.............................] - ETA: 41s - loss: 0.6237 - acc: 0.7812"
     ]
    },
    {
     "ename": "KeyboardInterrupt",
     "evalue": "",
     "output_type": "error",
     "traceback": [
      "\u001b[0;31m---------------------------------------------------------------------------\u001b[0m",
      "\u001b[0;31mKeyboardInterrupt\u001b[0m                         Traceback (most recent call last)",
      "\u001b[0;32m<ipython-input-8-a8ba62b85038>\u001b[0m in \u001b[0;36m<module>\u001b[0;34m()\u001b[0m\n\u001b[1;32m     14\u001b[0m           \u001b[0mverbose\u001b[0m\u001b[0;34m=\u001b[0m\u001b[0;36m1\u001b[0m\u001b[0;34m,\u001b[0m\u001b[0;34m\u001b[0m\u001b[0m\n\u001b[1;32m     15\u001b[0m           \u001b[0mvalidation_data\u001b[0m\u001b[0;34m=\u001b[0m\u001b[0;34m(\u001b[0m\u001b[0mx_test\u001b[0m\u001b[0;34m[\u001b[0m\u001b[0;34m:\u001b[0m\u001b[0;36m1000\u001b[0m\u001b[0;34m]\u001b[0m\u001b[0;34m,\u001b[0m \u001b[0my_test\u001b[0m\u001b[0;34m[\u001b[0m\u001b[0;34m:\u001b[0m\u001b[0;36m1000\u001b[0m\u001b[0;34m]\u001b[0m\u001b[0;34m)\u001b[0m\u001b[0;34m,\u001b[0m\u001b[0;34m\u001b[0m\u001b[0m\n\u001b[0;32m---> 16\u001b[0;31m          callbacks=[tensorboard])\n\u001b[0m",
      "\u001b[0;32m/home/atenhave/anaconda3/lib/python3.6/site-packages/keras/models.py\u001b[0m in \u001b[0;36mfit\u001b[0;34m(self, x, y, batch_size, epochs, verbose, callbacks, validation_split, validation_data, shuffle, class_weight, sample_weight, initial_epoch, **kwargs)\u001b[0m\n\u001b[1;32m    868\u001b[0m                               \u001b[0mclass_weight\u001b[0m\u001b[0;34m=\u001b[0m\u001b[0mclass_weight\u001b[0m\u001b[0;34m,\u001b[0m\u001b[0;34m\u001b[0m\u001b[0m\n\u001b[1;32m    869\u001b[0m                               \u001b[0msample_weight\u001b[0m\u001b[0;34m=\u001b[0m\u001b[0msample_weight\u001b[0m\u001b[0;34m,\u001b[0m\u001b[0;34m\u001b[0m\u001b[0m\n\u001b[0;32m--> 870\u001b[0;31m                               initial_epoch=initial_epoch)\n\u001b[0m\u001b[1;32m    871\u001b[0m \u001b[0;34m\u001b[0m\u001b[0m\n\u001b[1;32m    872\u001b[0m     def evaluate(self, x, y, batch_size=32, verbose=1,\n",
      "\u001b[0;32m/home/atenhave/anaconda3/lib/python3.6/site-packages/keras/engine/training.py\u001b[0m in \u001b[0;36mfit\u001b[0;34m(self, x, y, batch_size, epochs, verbose, callbacks, validation_split, validation_data, shuffle, class_weight, sample_weight, initial_epoch, **kwargs)\u001b[0m\n\u001b[1;32m   1505\u001b[0m                               \u001b[0mval_f\u001b[0m\u001b[0;34m=\u001b[0m\u001b[0mval_f\u001b[0m\u001b[0;34m,\u001b[0m \u001b[0mval_ins\u001b[0m\u001b[0;34m=\u001b[0m\u001b[0mval_ins\u001b[0m\u001b[0;34m,\u001b[0m \u001b[0mshuffle\u001b[0m\u001b[0;34m=\u001b[0m\u001b[0mshuffle\u001b[0m\u001b[0;34m,\u001b[0m\u001b[0;34m\u001b[0m\u001b[0m\n\u001b[1;32m   1506\u001b[0m                               \u001b[0mcallback_metrics\u001b[0m\u001b[0;34m=\u001b[0m\u001b[0mcallback_metrics\u001b[0m\u001b[0;34m,\u001b[0m\u001b[0;34m\u001b[0m\u001b[0m\n\u001b[0;32m-> 1507\u001b[0;31m                               initial_epoch=initial_epoch)\n\u001b[0m\u001b[1;32m   1508\u001b[0m \u001b[0;34m\u001b[0m\u001b[0m\n\u001b[1;32m   1509\u001b[0m     \u001b[0;32mdef\u001b[0m \u001b[0mevaluate\u001b[0m\u001b[0;34m(\u001b[0m\u001b[0mself\u001b[0m\u001b[0;34m,\u001b[0m \u001b[0mx\u001b[0m\u001b[0;34m,\u001b[0m \u001b[0my\u001b[0m\u001b[0;34m,\u001b[0m \u001b[0mbatch_size\u001b[0m\u001b[0;34m=\u001b[0m\u001b[0;36m32\u001b[0m\u001b[0;34m,\u001b[0m \u001b[0mverbose\u001b[0m\u001b[0;34m=\u001b[0m\u001b[0;36m1\u001b[0m\u001b[0;34m,\u001b[0m \u001b[0msample_weight\u001b[0m\u001b[0;34m=\u001b[0m\u001b[0;32mNone\u001b[0m\u001b[0;34m)\u001b[0m\u001b[0;34m:\u001b[0m\u001b[0;34m\u001b[0m\u001b[0m\n",
      "\u001b[0;32m/home/atenhave/anaconda3/lib/python3.6/site-packages/keras/engine/training.py\u001b[0m in \u001b[0;36m_fit_loop\u001b[0;34m(self, f, ins, out_labels, batch_size, epochs, verbose, callbacks, val_f, val_ins, shuffle, callback_metrics, initial_epoch)\u001b[0m\n\u001b[1;32m   1154\u001b[0m                 \u001b[0mbatch_logs\u001b[0m\u001b[0;34m[\u001b[0m\u001b[0;34m'size'\u001b[0m\u001b[0;34m]\u001b[0m \u001b[0;34m=\u001b[0m \u001b[0mlen\u001b[0m\u001b[0;34m(\u001b[0m\u001b[0mbatch_ids\u001b[0m\u001b[0;34m)\u001b[0m\u001b[0;34m\u001b[0m\u001b[0m\n\u001b[1;32m   1155\u001b[0m                 \u001b[0mcallbacks\u001b[0m\u001b[0;34m.\u001b[0m\u001b[0mon_batch_begin\u001b[0m\u001b[0;34m(\u001b[0m\u001b[0mbatch_index\u001b[0m\u001b[0;34m,\u001b[0m \u001b[0mbatch_logs\u001b[0m\u001b[0;34m)\u001b[0m\u001b[0;34m\u001b[0m\u001b[0m\n\u001b[0;32m-> 1156\u001b[0;31m                 \u001b[0mouts\u001b[0m \u001b[0;34m=\u001b[0m \u001b[0mf\u001b[0m\u001b[0;34m(\u001b[0m\u001b[0mins_batch\u001b[0m\u001b[0;34m)\u001b[0m\u001b[0;34m\u001b[0m\u001b[0m\n\u001b[0m\u001b[1;32m   1157\u001b[0m                 \u001b[0;32mif\u001b[0m \u001b[0;32mnot\u001b[0m \u001b[0misinstance\u001b[0m\u001b[0;34m(\u001b[0m\u001b[0mouts\u001b[0m\u001b[0;34m,\u001b[0m \u001b[0mlist\u001b[0m\u001b[0;34m)\u001b[0m\u001b[0;34m:\u001b[0m\u001b[0;34m\u001b[0m\u001b[0m\n\u001b[1;32m   1158\u001b[0m                     \u001b[0mouts\u001b[0m \u001b[0;34m=\u001b[0m \u001b[0;34m[\u001b[0m\u001b[0mouts\u001b[0m\u001b[0;34m]\u001b[0m\u001b[0;34m\u001b[0m\u001b[0m\n",
      "\u001b[0;32m/home/atenhave/anaconda3/lib/python3.6/site-packages/keras/backend/tensorflow_backend.py\u001b[0m in \u001b[0;36m__call__\u001b[0;34m(self, inputs)\u001b[0m\n\u001b[1;32m   2267\u001b[0m         updated = session.run(self.outputs + [self.updates_op],\n\u001b[1;32m   2268\u001b[0m                               \u001b[0mfeed_dict\u001b[0m\u001b[0;34m=\u001b[0m\u001b[0mfeed_dict\u001b[0m\u001b[0;34m,\u001b[0m\u001b[0;34m\u001b[0m\u001b[0m\n\u001b[0;32m-> 2269\u001b[0;31m                               **self.session_kwargs)\n\u001b[0m\u001b[1;32m   2270\u001b[0m         \u001b[0;32mreturn\u001b[0m \u001b[0mupdated\u001b[0m\u001b[0;34m[\u001b[0m\u001b[0;34m:\u001b[0m\u001b[0mlen\u001b[0m\u001b[0;34m(\u001b[0m\u001b[0mself\u001b[0m\u001b[0;34m.\u001b[0m\u001b[0moutputs\u001b[0m\u001b[0;34m)\u001b[0m\u001b[0;34m]\u001b[0m\u001b[0;34m\u001b[0m\u001b[0m\n\u001b[1;32m   2271\u001b[0m \u001b[0;34m\u001b[0m\u001b[0m\n",
      "\u001b[0;32m/home/atenhave/anaconda3/lib/python3.6/site-packages/tensorflow/python/client/session.py\u001b[0m in \u001b[0;36mrun\u001b[0;34m(self, fetches, feed_dict, options, run_metadata)\u001b[0m\n\u001b[1;32m    776\u001b[0m     \u001b[0;32mtry\u001b[0m\u001b[0;34m:\u001b[0m\u001b[0;34m\u001b[0m\u001b[0m\n\u001b[1;32m    777\u001b[0m       result = self._run(None, fetches, feed_dict, options_ptr,\n\u001b[0;32m--> 778\u001b[0;31m                          run_metadata_ptr)\n\u001b[0m\u001b[1;32m    779\u001b[0m       \u001b[0;32mif\u001b[0m \u001b[0mrun_metadata\u001b[0m\u001b[0;34m:\u001b[0m\u001b[0;34m\u001b[0m\u001b[0m\n\u001b[1;32m    780\u001b[0m         \u001b[0mproto_data\u001b[0m \u001b[0;34m=\u001b[0m \u001b[0mtf_session\u001b[0m\u001b[0;34m.\u001b[0m\u001b[0mTF_GetBuffer\u001b[0m\u001b[0;34m(\u001b[0m\u001b[0mrun_metadata_ptr\u001b[0m\u001b[0;34m)\u001b[0m\u001b[0;34m\u001b[0m\u001b[0m\n",
      "\u001b[0;32m/home/atenhave/anaconda3/lib/python3.6/site-packages/tensorflow/python/client/session.py\u001b[0m in \u001b[0;36m_run\u001b[0;34m(self, handle, fetches, feed_dict, options, run_metadata)\u001b[0m\n\u001b[1;32m    980\u001b[0m     \u001b[0;32mif\u001b[0m \u001b[0mfinal_fetches\u001b[0m \u001b[0;32mor\u001b[0m \u001b[0mfinal_targets\u001b[0m\u001b[0;34m:\u001b[0m\u001b[0;34m\u001b[0m\u001b[0m\n\u001b[1;32m    981\u001b[0m       results = self._do_run(handle, final_targets, final_fetches,\n\u001b[0;32m--> 982\u001b[0;31m                              feed_dict_string, options, run_metadata)\n\u001b[0m\u001b[1;32m    983\u001b[0m     \u001b[0;32melse\u001b[0m\u001b[0;34m:\u001b[0m\u001b[0;34m\u001b[0m\u001b[0m\n\u001b[1;32m    984\u001b[0m       \u001b[0mresults\u001b[0m \u001b[0;34m=\u001b[0m \u001b[0;34m[\u001b[0m\u001b[0;34m]\u001b[0m\u001b[0;34m\u001b[0m\u001b[0m\n",
      "\u001b[0;32m/home/atenhave/anaconda3/lib/python3.6/site-packages/tensorflow/python/client/session.py\u001b[0m in \u001b[0;36m_do_run\u001b[0;34m(self, handle, target_list, fetch_list, feed_dict, options, run_metadata)\u001b[0m\n\u001b[1;32m   1030\u001b[0m     \u001b[0;32mif\u001b[0m \u001b[0mhandle\u001b[0m \u001b[0;32mis\u001b[0m \u001b[0;32mNone\u001b[0m\u001b[0;34m:\u001b[0m\u001b[0;34m\u001b[0m\u001b[0m\n\u001b[1;32m   1031\u001b[0m       return self._do_call(_run_fn, self._session, feed_dict, fetch_list,\n\u001b[0;32m-> 1032\u001b[0;31m                            target_list, options, run_metadata)\n\u001b[0m\u001b[1;32m   1033\u001b[0m     \u001b[0;32melse\u001b[0m\u001b[0;34m:\u001b[0m\u001b[0;34m\u001b[0m\u001b[0m\n\u001b[1;32m   1034\u001b[0m       return self._do_call(_prun_fn, self._session, handle, feed_dict,\n",
      "\u001b[0;32m/home/atenhave/anaconda3/lib/python3.6/site-packages/tensorflow/python/client/session.py\u001b[0m in \u001b[0;36m_do_call\u001b[0;34m(self, fn, *args)\u001b[0m\n\u001b[1;32m   1037\u001b[0m   \u001b[0;32mdef\u001b[0m \u001b[0m_do_call\u001b[0m\u001b[0;34m(\u001b[0m\u001b[0mself\u001b[0m\u001b[0;34m,\u001b[0m \u001b[0mfn\u001b[0m\u001b[0;34m,\u001b[0m \u001b[0;34m*\u001b[0m\u001b[0margs\u001b[0m\u001b[0;34m)\u001b[0m\u001b[0;34m:\u001b[0m\u001b[0;34m\u001b[0m\u001b[0m\n\u001b[1;32m   1038\u001b[0m     \u001b[0;32mtry\u001b[0m\u001b[0;34m:\u001b[0m\u001b[0;34m\u001b[0m\u001b[0m\n\u001b[0;32m-> 1039\u001b[0;31m       \u001b[0;32mreturn\u001b[0m \u001b[0mfn\u001b[0m\u001b[0;34m(\u001b[0m\u001b[0;34m*\u001b[0m\u001b[0margs\u001b[0m\u001b[0;34m)\u001b[0m\u001b[0;34m\u001b[0m\u001b[0m\n\u001b[0m\u001b[1;32m   1040\u001b[0m     \u001b[0;32mexcept\u001b[0m \u001b[0merrors\u001b[0m\u001b[0;34m.\u001b[0m\u001b[0mOpError\u001b[0m \u001b[0;32mas\u001b[0m \u001b[0me\u001b[0m\u001b[0;34m:\u001b[0m\u001b[0;34m\u001b[0m\u001b[0m\n\u001b[1;32m   1041\u001b[0m       \u001b[0mmessage\u001b[0m \u001b[0;34m=\u001b[0m \u001b[0mcompat\u001b[0m\u001b[0;34m.\u001b[0m\u001b[0mas_text\u001b[0m\u001b[0;34m(\u001b[0m\u001b[0me\u001b[0m\u001b[0;34m.\u001b[0m\u001b[0mmessage\u001b[0m\u001b[0;34m)\u001b[0m\u001b[0;34m\u001b[0m\u001b[0m\n",
      "\u001b[0;32m/home/atenhave/anaconda3/lib/python3.6/site-packages/tensorflow/python/client/session.py\u001b[0m in \u001b[0;36m_run_fn\u001b[0;34m(session, feed_dict, fetch_list, target_list, options, run_metadata)\u001b[0m\n\u001b[1;32m   1019\u001b[0m         return tf_session.TF_Run(session, options,\n\u001b[1;32m   1020\u001b[0m                                  \u001b[0mfeed_dict\u001b[0m\u001b[0;34m,\u001b[0m \u001b[0mfetch_list\u001b[0m\u001b[0;34m,\u001b[0m \u001b[0mtarget_list\u001b[0m\u001b[0;34m,\u001b[0m\u001b[0;34m\u001b[0m\u001b[0m\n\u001b[0;32m-> 1021\u001b[0;31m                                  status, run_metadata)\n\u001b[0m\u001b[1;32m   1022\u001b[0m \u001b[0;34m\u001b[0m\u001b[0m\n\u001b[1;32m   1023\u001b[0m     \u001b[0;32mdef\u001b[0m \u001b[0m_prun_fn\u001b[0m\u001b[0;34m(\u001b[0m\u001b[0msession\u001b[0m\u001b[0;34m,\u001b[0m \u001b[0mhandle\u001b[0m\u001b[0;34m,\u001b[0m \u001b[0mfeed_dict\u001b[0m\u001b[0;34m,\u001b[0m \u001b[0mfetch_list\u001b[0m\u001b[0;34m)\u001b[0m\u001b[0;34m:\u001b[0m\u001b[0;34m\u001b[0m\u001b[0m\n",
      "\u001b[0;31mKeyboardInterrupt\u001b[0m: "
     ]
    }
   ],
   "source": [
    "#without data augmentation, without last dropouts\n",
    "n_train    = 6000\n",
    "batch_size = 128\n",
    "epochs     = 60\n",
    "\n",
    "name = 'graph'\n",
    "\n",
    "tensorboard = TensorBoard( log_dir='./{0}/{1}'.format(name, get_timestamp()), histogram_freq=0,\n",
    "                          write_graph=True, write_images=False)\n",
    "\n",
    "model.fit(x_train[:n_train], y_train[:n_train],\n",
    "          batch_size=batch_size,\n",
    "          epochs=epochs,\n",
    "          verbose=1,\n",
    "          validation_data=(x_test[:1000], y_test[:1000]),\n",
    "         callbacks=[tensorboard])"
   ]
  },
  {
   "cell_type": "code",
   "execution_count": null,
   "metadata": {},
   "outputs": [],
   "source": [
    "_, acc = model.evaluate(x_test[:1000], y_test[:1000], verbose=0)\n",
    "print('Test accuracy:', acc)"
   ]
  },
  {
   "cell_type": "code",
   "execution_count": 9,
   "metadata": {
    "scrolled": true
   },
   "outputs": [
    {
     "name": "stdout",
     "output_type": "stream",
     "text": [
      "Epoch 1/60\n",
      "47/46 [==============================] - 32s - loss: 2.2883 - acc: 0.1184 - val_loss: 2.2299 - val_acc: 0.2230\n",
      "Epoch 2/60\n",
      "47/46 [==============================] - 36s - loss: 2.1850 - acc: 0.1900 - val_loss: 2.0865 - val_acc: 0.2310\n",
      "Epoch 3/60\n",
      "47/46 [==============================] - 36s - loss: 2.1003 - acc: 0.2225 - val_loss: 2.0021 - val_acc: 0.2690\n",
      "Epoch 4/60\n",
      "47/46 [==============================] - 35s - loss: 2.0693 - acc: 0.2326 - val_loss: 1.9956 - val_acc: 0.2650\n",
      "Epoch 5/60\n",
      "47/46 [==============================] - 36s - loss: 2.0167 - acc: 0.2543 - val_loss: 2.0358 - val_acc: 0.2420\n",
      "Epoch 6/60\n",
      "47/46 [==============================] - 35s - loss: 1.9987 - acc: 0.2557 - val_loss: 1.9641 - val_acc: 0.2500\n",
      "Epoch 7/60\n",
      "47/46 [==============================] - 38s - loss: 1.9430 - acc: 0.2824 - val_loss: 1.9906 - val_acc: 0.2830\n",
      "Epoch 8/60\n",
      "47/46 [==============================] - 46s - loss: 1.9178 - acc: 0.2903 - val_loss: 1.7804 - val_acc: 0.3580\n",
      "Epoch 9/60\n",
      "47/46 [==============================] - 38s - loss: 1.8743 - acc: 0.3052 - val_loss: 1.9288 - val_acc: 0.2740\n",
      "Epoch 10/60\n",
      "47/46 [==============================] - 37s - loss: 1.8169 - acc: 0.3226 - val_loss: 1.6970 - val_acc: 0.3770\n",
      "Epoch 11/60\n",
      "47/46 [==============================] - 39s - loss: 1.7718 - acc: 0.3456 - val_loss: 1.7303 - val_acc: 0.3580\n",
      "Epoch 12/60\n",
      "47/46 [==============================] - 38s - loss: 1.7638 - acc: 0.3504 - val_loss: 1.6243 - val_acc: 0.4090\n",
      "Epoch 13/60\n",
      "47/46 [==============================] - 44s - loss: 1.7461 - acc: 0.3574 - val_loss: 1.6338 - val_acc: 0.3980\n",
      "Epoch 14/60\n",
      "47/46 [==============================] - 39s - loss: 1.7162 - acc: 0.3562 - val_loss: 1.5922 - val_acc: 0.4230\n",
      "Epoch 15/60\n",
      "47/46 [==============================] - 42s - loss: 1.6957 - acc: 0.3723 - val_loss: 1.6307 - val_acc: 0.4020\n",
      "Epoch 16/60\n",
      "47/46 [==============================] - 40s - loss: 1.6686 - acc: 0.3833 - val_loss: 1.5105 - val_acc: 0.4570\n",
      "Epoch 17/60\n",
      "47/46 [==============================] - 41s - loss: 1.6416 - acc: 0.3911 - val_loss: 1.5190 - val_acc: 0.4450\n",
      "Epoch 18/60\n",
      "47/46 [==============================] - 37s - loss: 1.6261 - acc: 0.4037 - val_loss: 1.4734 - val_acc: 0.4630\n",
      "Epoch 19/60\n",
      "47/46 [==============================] - 41s - loss: 1.5884 - acc: 0.4101 - val_loss: 1.5647 - val_acc: 0.4210\n",
      "Epoch 20/60\n",
      "47/46 [==============================] - 33s - loss: 1.6015 - acc: 0.4075 - val_loss: 1.4883 - val_acc: 0.4630\n",
      "Epoch 21/60\n",
      "47/46 [==============================] - 39s - loss: 1.5672 - acc: 0.4206 - val_loss: 1.4635 - val_acc: 0.4570\n",
      "Epoch 22/60\n",
      "47/46 [==============================] - 38s - loss: 1.5459 - acc: 0.4259 - val_loss: 1.4513 - val_acc: 0.4690\n",
      "Epoch 23/60\n",
      "47/46 [==============================] - 42s - loss: 1.5282 - acc: 0.4394 - val_loss: 1.4191 - val_acc: 0.4740\n",
      "Epoch 24/60\n",
      "47/46 [==============================] - 37s - loss: 1.5089 - acc: 0.4501 - val_loss: 1.3828 - val_acc: 0.4890\n",
      "Epoch 25/60\n",
      "47/46 [==============================] - 36s - loss: 1.4830 - acc: 0.4574 - val_loss: 1.4923 - val_acc: 0.4660\n",
      "Epoch 26/60\n",
      "47/46 [==============================] - 41s - loss: 1.4773 - acc: 0.4601 - val_loss: 1.3773 - val_acc: 0.4820\n",
      "Epoch 27/60\n",
      "47/46 [==============================] - 37s - loss: 1.4546 - acc: 0.4612 - val_loss: 1.3812 - val_acc: 0.4910\n",
      "Epoch 28/60\n",
      "47/46 [==============================] - 40s - loss: 1.4251 - acc: 0.4702 - val_loss: 1.3064 - val_acc: 0.5140\n",
      "Epoch 29/60\n",
      "47/46 [==============================] - 35s - loss: 1.3915 - acc: 0.4823 - val_loss: 1.3005 - val_acc: 0.5380\n",
      "Epoch 30/60\n",
      "47/46 [==============================] - 34s - loss: 1.3995 - acc: 0.4919 - val_loss: 1.3499 - val_acc: 0.5210\n",
      "Epoch 31/60\n",
      "47/46 [==============================] - 34s - loss: 1.3658 - acc: 0.5001 - val_loss: 1.2638 - val_acc: 0.5580\n",
      "Epoch 32/60\n",
      "47/46 [==============================] - 32s - loss: 1.3433 - acc: 0.5071 - val_loss: 1.3461 - val_acc: 0.5030\n",
      "Epoch 33/60\n",
      "47/46 [==============================] - 30s - loss: 1.3336 - acc: 0.5021 - val_loss: 1.3269 - val_acc: 0.5290\n",
      "Epoch 34/60\n",
      "47/46 [==============================] - 42s - loss: 1.3330 - acc: 0.5143 - val_loss: 1.2425 - val_acc: 0.5540\n",
      "Epoch 35/60\n",
      "47/46 [==============================] - 35s - loss: 1.3175 - acc: 0.5176 - val_loss: 1.2341 - val_acc: 0.5590\n",
      "Epoch 36/60\n",
      "47/46 [==============================] - 28s - loss: 1.3143 - acc: 0.5210 - val_loss: 1.3668 - val_acc: 0.5230\n",
      "Epoch 37/60\n",
      "47/46 [==============================] - 30s - loss: 1.2912 - acc: 0.5287 - val_loss: 1.2515 - val_acc: 0.5470\n",
      "Epoch 38/60\n",
      "47/46 [==============================] - 30s - loss: 1.2434 - acc: 0.5490 - val_loss: 1.2316 - val_acc: 0.5610\n",
      "Epoch 39/60\n",
      "47/46 [==============================] - 36s - loss: 1.2548 - acc: 0.5455 - val_loss: 1.2629 - val_acc: 0.5610\n",
      "Epoch 40/60\n",
      "47/46 [==============================] - 35s - loss: 1.2455 - acc: 0.5526 - val_loss: 1.2021 - val_acc: 0.5730\n",
      "Epoch 41/60\n",
      "47/46 [==============================] - 35s - loss: 1.2289 - acc: 0.5514 - val_loss: 1.2300 - val_acc: 0.5750\n",
      "Epoch 42/60\n",
      "47/46 [==============================] - 35s - loss: 1.2230 - acc: 0.5542 - val_loss: 1.2254 - val_acc: 0.5630\n",
      "Epoch 43/60\n",
      "47/46 [==============================] - 32s - loss: 1.1968 - acc: 0.5578 - val_loss: 1.2075 - val_acc: 0.5770\n",
      "Epoch 44/60\n",
      "47/46 [==============================] - 34s - loss: 1.1889 - acc: 0.5688 - val_loss: 1.2057 - val_acc: 0.5590\n",
      "Epoch 45/60\n",
      "47/46 [==============================] - 33s - loss: 1.1832 - acc: 0.5707 - val_loss: 1.2434 - val_acc: 0.5680\n",
      "Epoch 46/60\n",
      "47/46 [==============================] - 41s - loss: 1.1567 - acc: 0.5745 - val_loss: 1.2279 - val_acc: 0.5730\n",
      "Epoch 47/60\n",
      "47/46 [==============================] - 39s - loss: 1.1642 - acc: 0.5823 - val_loss: 1.1942 - val_acc: 0.5720\n",
      "Epoch 48/60\n",
      "47/46 [==============================] - 38s - loss: 1.1424 - acc: 0.5798 - val_loss: 1.2640 - val_acc: 0.5490\n",
      "Epoch 49/60\n",
      "47/46 [==============================] - 37s - loss: 1.1438 - acc: 0.5865 - val_loss: 1.1331 - val_acc: 0.5920\n",
      "Epoch 50/60\n",
      "47/46 [==============================] - 34s - loss: 1.1224 - acc: 0.5939 - val_loss: 1.1367 - val_acc: 0.6040\n",
      "Epoch 51/60\n",
      "47/46 [==============================] - 35s - loss: 1.1173 - acc: 0.5947 - val_loss: 1.1481 - val_acc: 0.5940\n",
      "Epoch 52/60\n",
      "47/46 [==============================] - 38s - loss: 1.1137 - acc: 0.6035 - val_loss: 1.1318 - val_acc: 0.6100\n",
      "Epoch 53/60\n",
      "47/46 [==============================] - 34s - loss: 1.1049 - acc: 0.6032 - val_loss: 1.1557 - val_acc: 0.6060\n",
      "Epoch 54/60\n",
      "47/46 [==============================] - 30s - loss: 1.0742 - acc: 0.6162 - val_loss: 1.1300 - val_acc: 0.5980\n",
      "Epoch 55/60\n",
      "47/46 [==============================] - 34s - loss: 1.1050 - acc: 0.5983 - val_loss: 1.1757 - val_acc: 0.5870\n",
      "Epoch 56/60\n",
      "47/46 [==============================] - 31s - loss: 1.0515 - acc: 0.6149 - val_loss: 1.1628 - val_acc: 0.6050\n",
      "Epoch 57/60\n",
      "47/46 [==============================] - 32s - loss: 1.0706 - acc: 0.6162 - val_loss: 1.1287 - val_acc: 0.6140\n",
      "Epoch 58/60\n",
      "47/46 [==============================] - 33s - loss: 1.0531 - acc: 0.6131 - val_loss: 1.1083 - val_acc: 0.6100\n",
      "Epoch 59/60\n",
      "47/46 [==============================] - 34s - loss: 1.0341 - acc: 0.6281 - val_loss: 1.1352 - val_acc: 0.6000\n",
      "Epoch 60/60\n",
      "47/46 [==============================] - 36s - loss: 1.0169 - acc: 0.6303 - val_loss: 1.1077 - val_acc: 0.6060\n"
     ]
    },
    {
     "data": {
      "text/plain": [
       "<keras.callbacks.History at 0x7f738f35f4e0>"
      ]
     },
     "execution_count": 9,
     "metadata": {},
     "output_type": "execute_result"
    }
   ],
   "source": [
    "#with data augmentation, without last dropouts\n",
    "n_train    = 6000\n",
    "batch_size = 128\n",
    "epochs     = 60\n",
    "\n",
    "name = 'graph'\n",
    "\n",
    "tensorboard = TensorBoard( log_dir='./{0}/{1}'.format(name, get_timestamp()), histogram_freq=0,\n",
    "                          write_graph=True, write_images=False)\n",
    "\n",
    "model.fit_generator(datagen.flow(x_train[:6000], y_train[:6000], batch_size=batch_size),\n",
    "          steps_per_epoch = n_train / batch_size,\n",
    "          epochs=epochs,\n",
    "          verbose=1,\n",
    "          validation_data=(x_test[:1000], y_test[:1000]),\n",
    "          callbacks=[tensorboard])"
   ]
  },
  {
   "cell_type": "code",
   "execution_count": 11,
   "metadata": {},
   "outputs": [
    {
     "name": "stdout",
     "output_type": "stream",
     "text": [
      "Test accuracy: 0.606\n"
     ]
    }
   ],
   "source": [
    "_, acc = model.evaluate(x_test[:1000], y_test[:1000], verbose=0)\n",
    "print('Test accuracy:', acc)"
   ]
  },
  {
   "cell_type": "code",
   "execution_count": null,
   "metadata": {},
   "outputs": [
    {
     "name": "stdout",
     "output_type": "stream",
     "text": [
      "Epoch 1/60\n",
      "47/46 [==============================] - 51s - loss: 2.2974 - acc: 0.1136 - val_loss: 2.2869 - val_acc: 0.1380\n",
      "Epoch 2/60\n",
      "47/46 [==============================] - 46s - loss: 2.2339 - acc: 0.1670 - val_loss: 2.1340 - val_acc: 0.2620\n",
      "Epoch 3/60\n",
      "47/46 [==============================] - 43s - loss: 2.1265 - acc: 0.2007 - val_loss: 2.0262 - val_acc: 0.2650\n",
      "Epoch 4/60\n",
      "47/46 [==============================] - 42s - loss: 2.0885 - acc: 0.2152 - val_loss: 2.0280 - val_acc: 0.2710\n",
      "Epoch 5/60\n",
      "47/46 [==============================] - 42s - loss: 2.0440 - acc: 0.2375 - val_loss: 1.9359 - val_acc: 0.2950\n",
      "Epoch 6/60\n",
      "47/46 [==============================] - 41s - loss: 2.0277 - acc: 0.2393 - val_loss: 1.8915 - val_acc: 0.3230\n",
      "Epoch 7/60\n",
      "47/46 [==============================] - 41s - loss: 1.9855 - acc: 0.2570 - val_loss: 1.8625 - val_acc: 0.3180\n",
      "Epoch 8/60\n",
      "47/46 [==============================] - 39s - loss: 1.9528 - acc: 0.2709 - val_loss: 1.8636 - val_acc: 0.3080\n",
      "Epoch 9/60\n",
      "47/46 [==============================] - 56s - loss: 1.9320 - acc: 0.2783 - val_loss: 1.8533 - val_acc: 0.2970\n",
      "Epoch 10/60\n",
      "47/46 [==============================] - 59s - loss: 1.9144 - acc: 0.2765 - val_loss: 1.8005 - val_acc: 0.3230\n",
      "Epoch 11/60\n",
      "47/46 [==============================] - 57s - loss: 1.8776 - acc: 0.2964 - val_loss: 1.7743 - val_acc: 0.3360\n",
      "Epoch 12/60\n",
      "47/46 [==============================] - 58s - loss: 1.8403 - acc: 0.3130 - val_loss: 1.7499 - val_acc: 0.3340\n",
      "Epoch 13/60\n",
      "11/46 [======>.......................] - ETA: 43s - loss: 1.8443 - acc: 0.3111"
     ]
    }
   ],
   "source": [
    "#with data augmentation, with last dropouts\n",
    "n_train    = 6000\n",
    "batch_size = 128\n",
    "epochs     = 60\n",
    "\n",
    "name = 'graph'\n",
    "\n",
    "tensorboard = TensorBoard( log_dir='./{0}/{1}'.format(name, get_timestamp()), histogram_freq=0,\n",
    "                          write_graph=True, write_images=False)\n",
    "\n",
    "model.fit_generator(datagen.flow(x_train[:6000], y_train[:6000], batch_size=batch_size),\n",
    "          steps_per_epoch = n_train / batch_size,\n",
    "          epochs=epochs,\n",
    "          verbose=1,\n",
    "          validation_data=(x_test[:1000], y_test[:1000]),\n",
    "          callbacks=[tensorboard])"
   ]
  },
  {
   "cell_type": "code",
   "execution_count": null,
   "metadata": {
    "collapsed": true
   },
   "outputs": [],
   "source": []
  }
 ],
 "metadata": {
  "kernelspec": {
   "display_name": "Python 3",
   "language": "python",
   "name": "python3"
  },
  "language_info": {
   "codemirror_mode": {
    "name": "ipython",
    "version": 3
   },
   "file_extension": ".py",
   "mimetype": "text/x-python",
   "name": "python",
   "nbconvert_exporter": "python",
   "pygments_lexer": "ipython3",
   "version": "3.6.1"
  }
 },
 "nbformat": 4,
 "nbformat_minor": 2
}
