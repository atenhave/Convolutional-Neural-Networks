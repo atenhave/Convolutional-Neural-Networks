{
 "cells": [
  {
   "cell_type": "code",
   "execution_count": 7,
   "metadata": {},
   "outputs": [
    {
     "name": "stderr",
     "output_type": "stream",
     "text": [
      "Using TensorFlow backend.\n"
     ]
    }
   ],
   "source": [
    "import keras\n",
    "from keras.datasets import cifar10, mnist\n",
    "from keras.models import Sequential\n",
    "from keras.layers import Dense, Dropout, Flatten, Reshape\n",
    "from keras.preprocessing.image import ImageDataGenerator\n",
    "from keras.layers import Conv2D, MaxPooling2D\n",
    "from keras import backend as K\n",
    "from keras import regularizers\n",
    "from keras.callbacks import TensorBoard\n",
    "import datetime\n",
    "\n",
    "import numpy as np"
   ]
  },
  {
   "cell_type": "code",
   "execution_count": 8,
   "metadata": {
    "collapsed": true
   },
   "outputs": [],
   "source": [
    "def get_timestamp():\n",
    "    return '{:%Y-%m-%d-%H-%M-%S}'.format(datetime.datetime.now())"
   ]
  },
  {
   "cell_type": "code",
   "execution_count": 9,
   "metadata": {
    "collapsed": true
   },
   "outputs": [],
   "source": [
    "# the data, shuffled and split between train and test sets\n",
    "def load_data(dataset):\n",
    "    # Load\n",
    "    (x_train, y_train), (x_test, y_test) = dataset.load_data()\n",
    "    # Reshape X\n",
    "    img_rows = x_train.shape[1]\n",
    "    img_cols = x_train.shape[2]\n",
    "    n_channels = x_train.shape[3] if len(x_train.shape) == 4 else 1\n",
    "    if K.image_data_format() == 'channels_first':\n",
    "        s = [n_channels, img_rows, img_cols]\n",
    "    else:\n",
    "        s = [img_rows, img_cols, n_channels]\n",
    "    x_train = x_train.reshape(x_train.shape[0], *s)\n",
    "    x_test = x_test.reshape(x_test.shape[0], *s)\n",
    "    # Rescale X\n",
    "    x_train = x_train.astype('float32')\n",
    "    x_test = x_test.astype('float32')\n",
    "    x_train /= 255\n",
    "    x_test /= 255\n",
    "    # Reshape y\n",
    "    num_classes = len(np.unique(y_train))\n",
    "    y_train = keras.utils.to_categorical(y_train, num_classes)\n",
    "    y_test = keras.utils.to_categorical(y_test, num_classes)\n",
    "    return (x_train, y_train), (x_test, y_test), img_rows, img_cols"
   ]
  },
  {
   "cell_type": "code",
   "execution_count": 10,
   "metadata": {
    "collapsed": true
   },
   "outputs": [],
   "source": [
    "(x_train, y_train), (x_test, y_test), img_rows, img_cols = load_data(cifar10)"
   ]
  },
  {
   "cell_type": "code",
   "execution_count": 11,
   "metadata": {},
   "outputs": [
    {
     "name": "stdout",
     "output_type": "stream",
     "text": [
      "x_train shape: (50000, 32, 32, 3)\n",
      "50000 train samples\n",
      "10000 test samples\n"
     ]
    }
   ],
   "source": [
    "print('x_train shape:', x_train.shape)\n",
    "print(x_train.shape[0], 'train samples')\n",
    "print(x_test.shape[0], 'test samples')"
   ]
  },
  {
   "cell_type": "code",
   "execution_count": 24,
   "metadata": {},
   "outputs": [],
   "source": [
    "datagen = ImageDataGenerator(\n",
    "    featurewise_center=False,\n",
    "    featurewise_std_normalization=False,\n",
    "    rotation_range=0,\n",
    "    width_shift_range=0.2,\n",
    "    height_shift_range=0.2,\n",
    "    horizontal_flip=False)\n",
    "\n",
    "datagen.fit(x_train)\n",
    "\n"
   ]
  },
  {
   "cell_type": "code",
   "execution_count": 22,
   "metadata": {
    "collapsed": true
   },
   "outputs": [],
   "source": [
    "small_cnn = Sequential()\n",
    "\n",
    "small_cnn.add(Conv2D(32, (3, 3), padding = \"same\", activation='relu', input_shape=x_train.shape[1:]))\n",
    "small_cnn.add(Conv2D(32, (3, 3), padding = \"same\", activation='relu'))\n",
    "small_cnn.add(MaxPooling2D(pool_size=(2, 2)))\n",
    "small_cnn.add(Dropout(0.3))\n",
    "\n",
    "small_cnn.add(Conv2D(64, (3, 3), padding = \"same\", activation='relu'))\n",
    "small_cnn.add(Conv2D(64, (3, 3), padding = \"same\", activation='relu'))\n",
    "small_cnn.add(MaxPooling2D(pool_size=(2, 2)))\n",
    "small_cnn.add(Dropout(0.3))\n",
    "\n",
    "small_cnn.add(Conv2D(128, (3, 3), padding = \"same\", activation='relu'))\n",
    "small_cnn.add(Conv2D(128, (3, 3), padding = \"same\", activation='relu'))\n",
    "small_cnn.add(MaxPooling2D(pool_size=(2, 2)))\n",
    "small_cnn.add(Dropout(0.3))\n",
    "\n",
    "small_cnn.add(Flatten())\n",
    "\n",
    "small_cnn.add(Dense(units=10, activation='softmax'))"
   ]
  },
  {
   "cell_type": "code",
   "execution_count": 23,
   "metadata": {},
   "outputs": [],
   "source": [
    "#model = linear\n",
    "model = small_cnn\n",
    "\n",
    "model.compile(loss=keras.losses.categorical_crossentropy,\n",
    "              optimizer=keras.optimizers.Adadelta(),\n",
    "              metrics=['accuracy'])"
   ]
  },
  {
   "cell_type": "code",
   "execution_count": 12,
   "metadata": {
    "scrolled": true
   },
   "outputs": [
    {
     "name": "stdout",
     "output_type": "stream",
     "text": [
      "Train on 6000 samples, validate on 1000 samples\n",
      "Epoch 1/20\n",
      "6000/6000 [==============================] - 28s - loss: 2.2607 - acc: 0.1548 - val_loss: 2.0939 - val_acc: 0.3110\n",
      "Epoch 2/20\n",
      "6000/6000 [==============================] - 32s - loss: 2.0598 - acc: 0.2572 - val_loss: 1.9522 - val_acc: 0.3400\n",
      "Epoch 3/20\n",
      "6000/6000 [==============================] - 33s - loss: 1.9169 - acc: 0.3155 - val_loss: 1.7834 - val_acc: 0.3770\n",
      "Epoch 4/20\n",
      "6000/6000 [==============================] - 27s - loss: 1.7941 - acc: 0.3645 - val_loss: 1.7225 - val_acc: 0.3720\n",
      "Epoch 5/20\n",
      "6000/6000 [==============================] - 31s - loss: 1.7241 - acc: 0.3862 - val_loss: 1.7265 - val_acc: 0.3800\n",
      "Epoch 6/20\n",
      "6000/6000 [==============================] - 28s - loss: 1.6606 - acc: 0.4005 - val_loss: 1.6456 - val_acc: 0.4080\n",
      "Epoch 7/20\n",
      "6000/6000 [==============================] - 26s - loss: 1.6034 - acc: 0.4232 - val_loss: 1.7096 - val_acc: 0.4030\n",
      "Epoch 8/20\n",
      "6000/6000 [==============================] - 29s - loss: 1.5697 - acc: 0.4405 - val_loss: 1.5631 - val_acc: 0.4600\n",
      "Epoch 9/20\n",
      "6000/6000 [==============================] - 28s - loss: 1.5193 - acc: 0.4515 - val_loss: 1.5038 - val_acc: 0.4650\n",
      "Epoch 10/20\n",
      "6000/6000 [==============================] - 26s - loss: 1.4633 - acc: 0.4843 - val_loss: 1.7081 - val_acc: 0.4200\n",
      "Epoch 11/20\n",
      "6000/6000 [==============================] - 26s - loss: 1.4353 - acc: 0.4915 - val_loss: 1.4296 - val_acc: 0.5050\n",
      "Epoch 12/20\n",
      "6000/6000 [==============================] - 27s - loss: 1.4015 - acc: 0.4977 - val_loss: 1.4191 - val_acc: 0.4980\n",
      "Epoch 13/20\n",
      "6000/6000 [==============================] - 33s - loss: 1.3691 - acc: 0.5118 - val_loss: 1.4143 - val_acc: 0.5050\n",
      "Epoch 14/20\n",
      "6000/6000 [==============================] - 24s - loss: 1.3485 - acc: 0.5215 - val_loss: 1.3993 - val_acc: 0.5110\n",
      "Epoch 15/20\n",
      "6000/6000 [==============================] - 30s - loss: 1.3222 - acc: 0.5295 - val_loss: 1.4075 - val_acc: 0.5100\n",
      "Epoch 16/20\n",
      "6000/6000 [==============================] - 30s - loss: 1.2901 - acc: 0.5347 - val_loss: 1.3685 - val_acc: 0.5320\n",
      "Epoch 17/20\n",
      "6000/6000 [==============================] - 29s - loss: 1.2741 - acc: 0.5472 - val_loss: 1.4017 - val_acc: 0.5280\n",
      "Epoch 18/20\n",
      "6000/6000 [==============================] - 31s - loss: 1.2484 - acc: 0.5560 - val_loss: 1.3213 - val_acc: 0.5400\n",
      "Epoch 19/20\n",
      "6000/6000 [==============================] - 30s - loss: 1.2177 - acc: 0.5737 - val_loss: 1.4136 - val_acc: 0.5120\n",
      "Epoch 20/20\n",
      "6000/6000 [==============================] - 23s - loss: 1.2037 - acc: 0.5728 - val_loss: 1.3861 - val_acc: 0.5090\n"
     ]
    },
    {
     "data": {
      "text/plain": [
       "<keras.callbacks.History at 0x7f34187eda20>"
      ]
     },
     "execution_count": 12,
     "metadata": {},
     "output_type": "execute_result"
    }
   ],
   "source": [
    "n_train    = 6000\n",
    "batch_size = 128\n",
    "epochs     = 20\n",
    "\n",
    "name = 'graph'\n",
    "\n",
    "tensorboard = TensorBoard( log_dir='./{0}/{1}'.format(name, get_timestamp()), histogram_freq=0,\n",
    "                          write_graph=True, write_images=False)\n",
    "\n",
    "#model.fit_generator(datagen.flow(x_train, y_train, batch_size=32),\n",
    "                    #steps_per_epoch=len(x_train) / 32, epochs=epochs)\n",
    "\n",
    "#model.fit_generator(datagen.flow(x_train[:6000], y_train[:6000], batch_size=batch_size),\n",
    "          #steps_per_epoch = n_train / batch_size,\n",
    "          #epochs=epochs,\n",
    "          #verbose=1,\n",
    "          #validation_data=(x_test[:1000], y_test[:1000]),\n",
    "          #callbacks=[tensorboard])\n",
    "\n",
    "model.fit(x_train[:n_train], y_train[:n_train],\n",
    "          batch_size=batch_size,\n",
    "          epochs=epochs,\n",
    "          verbose=1,\n",
    "          validation_data=(x_test[:1000], y_test[:1000]),\n",
    "         callbacks=[tensorboard])"
   ]
  },
  {
   "cell_type": "code",
   "execution_count": 13,
   "metadata": {},
   "outputs": [
    {
     "name": "stdout",
     "output_type": "stream",
     "text": [
      "Test accuracy: 0.509\n"
     ]
    }
   ],
   "source": [
    "_, acc = model.evaluate(x_test[:1000], y_test[:1000], verbose=0)\n",
    "print('Test accuracy:', acc)"
   ]
  },
  {
   "cell_type": "code",
   "execution_count": 28,
   "metadata": {},
   "outputs": [
    {
     "name": "stdout",
     "output_type": "stream",
     "text": [
      "Epoch 1/20\n",
      "47/46 [==============================] - 41s - loss: 2.2837 - acc: 0.1404 - val_loss: 2.2326 - val_acc: 0.1420\n",
      "Epoch 2/20\n",
      "47/46 [==============================] - 34s - loss: 2.1740 - acc: 0.1994 - val_loss: 2.0694 - val_acc: 0.2610\n",
      "Epoch 3/20\n",
      "47/46 [==============================] - 36s - loss: 2.0924 - acc: 0.2289 - val_loss: 1.9644 - val_acc: 0.2860\n",
      "Epoch 4/20\n",
      "47/46 [==============================] - 39s - loss: 2.0325 - acc: 0.2496 - val_loss: 1.9738 - val_acc: 0.3130\n",
      "Epoch 5/20\n",
      "47/46 [==============================] - 32s - loss: 1.9765 - acc: 0.2882 - val_loss: 1.8387 - val_acc: 0.3360\n",
      "Epoch 6/20\n",
      "47/46 [==============================] - 37s - loss: 1.9149 - acc: 0.3045 - val_loss: 1.8000 - val_acc: 0.3650\n",
      "Epoch 7/20\n",
      "47/46 [==============================] - 35s - loss: 1.8595 - acc: 0.3166 - val_loss: 1.8841 - val_acc: 0.3270\n",
      "Epoch 8/20\n",
      "47/46 [==============================] - 42s - loss: 1.8426 - acc: 0.3253 - val_loss: 1.8218 - val_acc: 0.3340\n",
      "Epoch 9/20\n",
      "47/46 [==============================] - 36s - loss: 1.7955 - acc: 0.3453 - val_loss: 1.7105 - val_acc: 0.3740\n",
      "Epoch 10/20\n",
      "47/46 [==============================] - 38s - loss: 1.7770 - acc: 0.3446 - val_loss: 1.6998 - val_acc: 0.3790\n",
      "Epoch 11/20\n",
      "47/46 [==============================] - 38s - loss: 1.7453 - acc: 0.3624 - val_loss: 1.7296 - val_acc: 0.3670\n",
      "Epoch 12/20\n",
      "47/46 [==============================] - 42s - loss: 1.7372 - acc: 0.3717 - val_loss: 1.6240 - val_acc: 0.4050\n",
      "Epoch 13/20\n",
      "47/46 [==============================] - 35s - loss: 1.6796 - acc: 0.3824 - val_loss: 1.5476 - val_acc: 0.4270\n",
      "Epoch 14/20\n",
      "47/46 [==============================] - 34s - loss: 1.6608 - acc: 0.3857 - val_loss: 1.5825 - val_acc: 0.4250\n",
      "Epoch 15/20\n",
      "47/46 [==============================] - 36s - loss: 1.6459 - acc: 0.3975 - val_loss: 1.5224 - val_acc: 0.4450\n",
      "Epoch 16/20\n",
      "47/46 [==============================] - 37s - loss: 1.6350 - acc: 0.3927 - val_loss: 1.5002 - val_acc: 0.4540\n",
      "Epoch 17/20\n",
      "47/46 [==============================] - 41s - loss: 1.5959 - acc: 0.4191 - val_loss: 1.5084 - val_acc: 0.4600\n",
      "Epoch 18/20\n",
      "47/46 [==============================] - 40s - loss: 1.5758 - acc: 0.4229 - val_loss: 1.4738 - val_acc: 0.4690\n",
      "Epoch 19/20\n",
      "47/46 [==============================] - 34s - loss: 1.5646 - acc: 0.4269 - val_loss: 1.4861 - val_acc: 0.4530\n",
      "Epoch 20/20\n",
      "47/46 [==============================] - 35s - loss: 1.5374 - acc: 0.4446 - val_loss: 1.4106 - val_acc: 0.4970\n"
     ]
    },
    {
     "data": {
      "text/plain": [
       "<keras.callbacks.History at 0x7f775009a400>"
      ]
     },
     "execution_count": 28,
     "metadata": {},
     "output_type": "execute_result"
    }
   ],
   "source": [
    "n_train    = 6000\n",
    "batch_size = 128\n",
    "epochs     = 20\n",
    "\n",
    "name = 'graph'\n",
    "\n",
    "tensorboard = TensorBoard( log_dir='./{0}/{1}'.format(name, get_timestamp()), histogram_freq=0,\n",
    "                          write_graph=True, write_images=False)\n",
    "\n",
    "model.fit_generator(datagen.flow(x_train[:6000], y_train[:6000], batch_size=batch_size),\n",
    "          steps_per_epoch = n_train / batch_size,\n",
    "          epochs=epochs,\n",
    "          verbose=1,\n",
    "          validation_data=(x_test[:1000], y_test[:1000]),\n",
    "          callbacks=[tensorboard])"
   ]
  },
  {
   "cell_type": "code",
   "execution_count": 29,
   "metadata": {},
   "outputs": [
    {
     "name": "stdout",
     "output_type": "stream",
     "text": [
      "Test accuracy: 0.497\n"
     ]
    }
   ],
   "source": [
    "_, acc = model.evaluate(x_test[:1000], y_test[:1000], verbose=0)\n",
    "print('Test accuracy:', acc)"
   ]
  },
  {
   "cell_type": "code",
   "execution_count": null,
   "metadata": {
    "collapsed": true
   },
   "outputs": [],
   "source": []
  }
 ],
 "metadata": {
  "kernelspec": {
   "display_name": "Python 3",
   "language": "python",
   "name": "python3"
  },
  "language_info": {
   "codemirror_mode": {
    "name": "ipython",
    "version": 3
   },
   "file_extension": ".py",
   "mimetype": "text/x-python",
   "name": "python",
   "nbconvert_exporter": "python",
   "pygments_lexer": "ipython3",
   "version": "3.6.1"
  }
 },
 "nbformat": 4,
 "nbformat_minor": 2
}
